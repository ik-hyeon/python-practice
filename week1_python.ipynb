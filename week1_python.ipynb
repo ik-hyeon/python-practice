{
 "cells": [
  {
   "cell_type": "markdown",
   "metadata": {},
   "source": [
    "# 자료형"
   ]
  },
  {
   "cell_type": "code",
   "execution_count": 2,
   "metadata": {},
   "outputs": [
    {
     "name": "stdout",
     "output_type": "stream",
     "text": [
      "Hello, World!\n",
      "토목환경 물리탐사\n"
     ]
    }
   ],
   "source": [
    "\"\"\"\n",
    "문자열 (String)\n",
    "- 문자들의 나열\n",
    "- 문자열을 만들 때는 큰따옴표(\")나 작은따옴표(')를 사용\n",
    "- 문자열의 연결은 + 연산자를 사용\n",
    "\"\"\"\n",
    "print(\"Hello, World!\")\n",
    "print(\"토목\" + \"환경\" + \" \" + \"물리탐사\")"
   ]
  },
  {
   "cell_type": "code",
   "execution_count": null,
   "metadata": {},
   "outputs": [
    {
     "name": "stdout",
     "output_type": "stream",
     "text": [
      "7\n",
      "3.14\n",
      "314000.0\n",
      "(1+2j)\n",
      "12 2 35 1.4 1 2 16807\n"
     ]
    }
   ],
   "source": [
    "\"\"\"\n",
    "숫자 (Number)\n",
    "- 정수, 실수, 복소수 등의 숫자를 다루는 자료형\n",
    "- 정수를 만들 때는 그냥 숫자를 입력\n",
    "- 실수를 만들 때는 소수점을 찍어 입력\n",
    "- 복소수를 만들 때는 허수부분에 j를 붙여 입력\n",
    "- 숫자를 연산할 때는 +, -, *, /, //, %, ** 등의 연산자를 사용\n",
    "\"\"\"\n",
    "print(7)\n",
    "print(3.14)\n",
    "print(3.14e5)\n",
    "print(1+2j)\n",
    "print(7+5, 7-5, 7*5, 7/5, 7//5, 7%5, 7**5)"
   ]
  },
  {
   "cell_type": "code",
   "execution_count": 4,
   "metadata": {},
   "outputs": [
    {
     "name": "stdout",
     "output_type": "stream",
     "text": [
      "True\n"
     ]
    }
   ],
   "source": [
    "\"\"\"\n",
    "불 (Boolean)\n",
    "- 참(True)과 거짓(False)을 나타내는 자료형\n",
    "- 불을 만들 때는 True나 False를 입력\n",
    "- 반드시 첫 글자는 대문자로 입력\n",
    "\"\"\"\n",
    "Boolean = True\n",
    "print(Boolean)\n"
   ]
  },
  {
   "cell_type": "code",
   "execution_count": 5,
   "metadata": {},
   "outputs": [
    {
     "name": "stdout",
     "output_type": "stream",
     "text": [
      "[1, 2, 3, 4, 5, 1, 2, 3, 4, 5]\n"
     ]
    }
   ],
   "source": [
    "\"\"\"\n",
    "리스트 (List)\n",
    "- 여러 개의 자료를 한꺼번에 다룰 수 있는 자료형\n",
    "- 리스트를 만들 때는 대괄호([])를 사용\n",
    "- 리스트는 사칙연산을 할 수 없음\n",
    "\"\"\"\n",
    "a = [1,2,3,4,5]\n",
    "# 리스트를 + 연산해보세요"
   ]
  },
  {
   "cell_type": "code",
   "execution_count": null,
   "metadata": {},
   "outputs": [],
   "source": [
    "\"\"\"\n",
    "배열 (Array)\n",
    "- 리스트와 비슷한 자료형\n",
    "- 배열을 만들 때는 array() 함수를 사용\n",
    "- 배열은 행벡터를 쌓아서 만들 수 있음\n",
    "- 배열의 사칙연산을 할 때는 +, -, *, / 등의 연산자를 사용\n",
    "\"\"\"\n",
    "import numpy as np\n",
    "A = np.array([[1,2],[3,4]])\n",
    "# 배열 B를 만들어서 A와 더하기, 빼기, 곱하기, 나누기, 행렬곱하기를 해보세요"
   ]
  },
  {
   "cell_type": "code",
   "execution_count": null,
   "metadata": {},
   "outputs": [],
   "source": [
    "#행렬 A와 B를 비교연산자를 통해 비교해보세요\n",
    "# A == B, A<B, A>B, A<=B, A>=B, A!=B"
   ]
  },
  {
   "cell_type": "markdown",
   "metadata": {},
   "source": [
    "# 조건문"
   ]
  },
  {
   "cell_type": "code",
   "execution_count": null,
   "metadata": {},
   "outputs": [],
   "source": [
    "test = input()\n",
    "\n",
    "if test == \"휴강\":\n",
    "\tprint(\"절대 늦잠\")\n",
    "else:\n",
    "\tprint(\"5분만 더....\")"
   ]
  },
  {
   "cell_type": "markdown",
   "metadata": {},
   "source": [
    "# 반복문"
   ]
  },
  {
   "cell_type": "code",
   "execution_count": null,
   "metadata": {},
   "outputs": [],
   "source": [
    "for month in range(1,13):\n",
    "\tprint(f\"{month} 월 입니다.\") # f-string"
   ]
  },
  {
   "cell_type": "code",
   "execution_count": null,
   "metadata": {},
   "outputs": [],
   "source": [
    "month = 1\n",
    "while month<13:\n",
    "\t# 이 줄에 코드를 작성하세요. (f-string 사용)\n",
    "\tmonth = month + 1\n"
   ]
  },
  {
   "cell_type": "markdown",
   "metadata": {},
   "source": [
    "# 그래프 그리기"
   ]
  },
  {
   "cell_type": "code",
   "execution_count": null,
   "metadata": {},
   "outputs": [],
   "source": [
    "import numpy as np\n",
    "from matplotlib import pyplot as plt\n",
    "\n",
    "x = np.linspace(-3,3,30)\n",
    "y = (x-2)*x*(x+2)\n",
    "\n",
    "plt.figure(figsize = (4,4)) # 그래프의 크기를 정합니다.\n",
    "plt.plot(x,y) # 그래프를 그립니다.\n",
    "plt.xlabel('x') # x축 라벨을 정합니다.\n",
    "plt.ylabel('y') # y축 라벨을 정합니다.\n",
    "plt.title('y = (x-2)x(x+2)') # 그래프의 제목을 정합니다.\n",
    "plt.xticks(fontsize = 14); plt.yticks(fontsize = 14) # 눈금의 크기를 정합니다.\n",
    "plt.legend(['y = (x-2)x(x+2)']) # 범례를 추가합니다.\n",
    "plt.grid() # 그리드를 추가합니다.\n",
    "plt.show() # 그래프를 보여줍니다."
   ]
  },
  {
   "cell_type": "code",
   "execution_count": null,
   "metadata": {},
   "outputs": [],
   "source": [
    "x = np.linspace(-3,3,30)\n",
    "# 그래프 그리는 코드를 자유롭게 작성해보세요."
   ]
  },
  {
   "cell_type": "markdown",
   "metadata": {},
   "source": [
    "# 파일 불러오기"
   ]
  },
  {
   "cell_type": "code",
   "execution_count": null,
   "metadata": {},
   "outputs": [],
   "source": [
    "pwd"
   ]
  },
  {
   "cell_type": "code",
   "execution_count": null,
   "metadata": {},
   "outputs": [],
   "source": []
  }
 ],
 "metadata": {
  "kernelspec": {
   "display_name": "base",
   "language": "python",
   "name": "python3"
  },
  "language_info": {
   "codemirror_mode": {
    "name": "ipython",
    "version": 3
   },
   "file_extension": ".py",
   "mimetype": "text/x-python",
   "name": "python",
   "nbconvert_exporter": "python",
   "pygments_lexer": "ipython3",
   "version": "3.9.2"
  }
 },
 "nbformat": 4,
 "nbformat_minor": 2
}
