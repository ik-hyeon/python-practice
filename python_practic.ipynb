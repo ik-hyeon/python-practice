{
  "nbformat": 4,
  "nbformat_minor": 0,
  "metadata": {
    "colab": {
      "provenance": [],
      "gpuType": "T4",
      "toc_visible": true,
      "authorship_tag": "ABX9TyNvnBOlFx/9jslejcspoES0",
      "include_colab_link": true
    },
    "kernelspec": {
      "name": "python3",
      "display_name": "Python 3"
    },
    "language_info": {
      "name": "python"
    }
  },
  "cells": [
    {
      "cell_type": "markdown",
      "metadata": {
        "id": "view-in-github",
        "colab_type": "text"
      },
      "source": [
        "<a href=\"https://colab.research.google.com/github/ik-hyeon/python-practice/blob/main/python_practic.ipynb\" target=\"_parent\"><img src=\"https://colab.research.google.com/assets/colab-badge.svg\" alt=\"Open In Colab\"/></a>"
      ]
    },
    {
      "cell_type": "code",
      "source": [
        "a = 10\n",
        "b = 18\n",
        "c = 2\n",
        "d = 2\n",
        "e = 11\n",
        "a*b**c + d*e\n"
      ],
      "metadata": {
        "colab": {
          "base_uri": "https://localhost:8080/"
        },
        "id": "z3enq_TnGIdK",
        "outputId": "d812764e-b9e7-4ec0-a449-3b4f7f1d0033"
      },
      "execution_count": null,
      "outputs": [
        {
          "output_type": "execute_result",
          "data": {
            "text/plain": [
              "3262"
            ]
          },
          "metadata": {},
          "execution_count": 8
        }
      ]
    },
    {
      "cell_type": "code",
      "source": [
        "a = 14//3\n",
        "b = 14%3\n",
        "print(a)\n",
        "print(b)\n"
      ],
      "metadata": {
        "colab": {
          "base_uri": "https://localhost:8080/"
        },
        "id": "yFRZOTogS37w",
        "outputId": "cfbd83a7-5404-476d-d082-9398235ba695"
      },
      "execution_count": null,
      "outputs": [
        {
          "output_type": "stream",
          "name": "stdout",
          "text": [
            "4\n",
            "2\n"
          ]
        }
      ]
    },
    {
      "cell_type": "code",
      "source": [
        "food = \"python's happy practice\"\n",
        "print (food)\n",
        "\n",
        "a = \"\\\"my love is you\\\" he says\"\n",
        "print(a)\n",
        "\n",
        "b = '''\n",
        "i love you\n",
        "happy\n",
        "'''\n",
        "print(b)"
      ],
      "metadata": {
        "colab": {
          "base_uri": "https://localhost:8080/"
        },
        "id": "Oj1rAt6QUYa8",
        "outputId": "fa926faa-b9ee-45bf-f146-88ae63dbcd81"
      },
      "execution_count": null,
      "outputs": [
        {
          "output_type": "stream",
          "name": "stdout",
          "text": [
            "python's happy practice\n",
            "\"my love is you\" he says\n",
            "\n",
            "i love you\n",
            "happy\n",
            "\n"
          ]
        }
      ]
    },
    {
      "cell_type": "code",
      "source": [
        "print(\"=\" *50)\n",
        "print(\"my program\")\n",
        "print(\"=\" * 50)\n",
        "\n",
        "a = \"I like programing zz\"\n",
        "print(a[1:])\n",
        "\n",
        "co_de = \"you need python\"\n",
        "print(len(co_de))"
      ],
      "metadata": {
        "colab": {
          "base_uri": "https://localhost:8080/"
        },
        "id": "j5JuqeL1XWgw",
        "outputId": "08f43294-720c-40c1-8724-e512cbcc4bbf"
      },
      "execution_count": null,
      "outputs": [
        {
          "output_type": "stream",
          "name": "stdout",
          "text": [
            "==================================================\n",
            "my program\n",
            "==================================================\n",
            " like programing zz\n",
            "15\n"
          ]
        }
      ]
    },
    {
      "cell_type": "code",
      "source": [
        "import random\n",
        "\n",
        "def generate_lotto_numbers():\n",
        "    lotto_numbers = random.sample(range(1, 46), 6)\n",
        "    lotto_numbers.sort()\n",
        "    return lotto_numbers\n",
        "\n",
        "if __name__ == \"__main__\":\n",
        "    generated_numbers = generate_lotto_numbers()\n",
        "    print(\"로또 번호:\", generated_numbers)\n"
      ],
      "metadata": {
        "colab": {
          "base_uri": "https://localhost:8080/"
        },
        "id": "ZSSDldw4ZtXB",
        "outputId": "935226f9-00d9-4b9c-c119-1908751ac376"
      },
      "execution_count": null,
      "outputs": [
        {
          "output_type": "stream",
          "name": "stdout",
          "text": [
            "로또 번호: [1, 7, 13, 26, 30, 44]\n"
          ]
        }
      ]
    },
    {
      "cell_type": "code",
      "source": [
        "money = 30000\n",
        "if money >= 3000:\n",
        "  print(\"버스타자\")\n",
        "else :\n",
        "  print(\"걸어가라\")"
      ],
      "metadata": {
        "colab": {
          "base_uri": "https://localhost:8080/"
        },
        "id": "AE8hy_gAa8WC",
        "outputId": "b0577643-6f71-4cb2-b161-05cf649c7198"
      },
      "execution_count": null,
      "outputs": [
        {
          "output_type": "stream",
          "name": "stdout",
          "text": [
            "버스타자\n"
          ]
        }
      ]
    }
  ]
}